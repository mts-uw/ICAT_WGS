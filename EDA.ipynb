{
 "cells": [
  {
   "cell_type": "code",
   "execution_count": 10,
   "metadata": {},
   "outputs": [],
   "source": [
    "import numpy as np\n",
    "import pandas as pd\n",
    "import matplotlib\n",
    "import sklearn\n",
    "import shap\n",
    "import skopt\n",
    "from sklearn.model_selection import GridSearchCV\n",
    "from sklearn.ensemble import RandomForestRegressor\n"
   ]
  },
  {
   "cell_type": "code",
   "execution_count": 17,
   "metadata": {},
   "outputs": [],
   "source": [
    "N_JOBS = 6\n",
    "errors = {}\n",
    "\n",
    "def crossvalid(xx, yy, model, cvf):\n",
    "    err_trn = []\n",
    "    err_tes = []\n",
    "    r_2_tes = []\n",
    "    r_2_trn = []\n",
    "    for train_index, test_index in cvf.split(xx):\n",
    "        x_trn = pd.DataFrame(np.array(xx)[train_index], columns =xx.columns)\n",
    "        x_tes = pd.DataFrame(np.array(xx)[test_index], columns = xx.columns)\n",
    "        y_trn = np.array(yy)[train_index]\n",
    "        y_tes = np.array(yy)[test_index]\n",
    "        model.fit(x_trn,y_trn)\n",
    "        x_trn_pred = model.predict(x_trn)\n",
    "        x_tes_pred = model.predict(x_tes)\n",
    "        err_tes.append(mean_squared_error(x_tes_pred, y_tes))\n",
    "        err_trn.append(mean_squared_error(x_trn_pred, y_trn))\n",
    "        r_2_tes.append(r2_score(y_tes, x_tes_pred))\n",
    "        r_2_trn.append(r2_score(y_trn, x_trn_pred))\n",
    "    v_tes = np.sqrt(np.array(err_tes))\n",
    "    v_trn = np.sqrt(np.array(err_trn))\n",
    "    print (\"RMSE %1.3f (sd: %1.3f, min:%1.3f, max:%1.3f, det:%1.3f) ... train\" % (v_trn.mean(), v_trn.std(),v_trn.min(), v_trn.max(),np.array(r_2_trn).mean()))\n",
    "    print (\"RMSE %1.3f (sd: %1.3f, min:%1.3f, max:%1.3f, det:%1.3f) ... test\" % (v_tes.mean(), v_tes.std(), v_tes.min(), v_tes.max(), np.array(r_2_tes).mean()))\n",
    "    ret = {}\n",
    "    ret['trn_mean'] = v_trn.mean()\n",
    "    ret['trn_std'] = v_trn.std()\n",
    "    ret['trn_r2'] = np.array(r_2_trn).mean()\n",
    "    ret['tes_mean'] = v_tes.mean()\n",
    "    ret['tes_std'] = v_tes.std()\n",
    "    ret['tes_r2'] = np.array(r_2_tes).mean()\n",
    "    return ret\n"
   ]
  },
  {
   "cell_type": "code",
   "execution_count": 14,
   "metadata": {},
   "outputs": [],
   "source": [
    "cvmodel = GridSearchCV(RandomForestRegressor(n_jobs = N_JOBS, random_state = 1126 ),\n",
    "                                              param_grid = {'n_estimators':[100, 300, 500, 1000],\n",
    "                                                            'max_depth': [8, 10]},\n",
    "                                              n_jobs = -1)\n",
    "                                \n",
    "errors['RFR'] = corssvalid(feat, target, model, cvf)"
   ]
  },
  {
   "cell_type": "code",
   "execution_count": null,
   "metadata": {},
   "outputs": [],
   "source": []
  }
 ],
 "metadata": {
  "kernelspec": {
   "name": "python_defaultSpec_1611558700290",
   "display_name": "Python 3.7.9 64-bit ('base': conda)"
  }
 },
 "nbformat": 4,
 "nbformat_minor": 4
}